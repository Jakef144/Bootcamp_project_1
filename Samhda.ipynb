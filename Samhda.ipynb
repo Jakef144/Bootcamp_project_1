{
 "cells": [
  {
   "cell_type": "code",
   "execution_count": 35,
   "id": "51bf68c5-d50a-4e29-a44c-b44e6f38b4dd",
   "metadata": {},
   "outputs": [
    {
     "name": "stdout",
     "output_type": "stream",
     "text": [
      "   year  location_abbr                             locationdesc  \\\n",
      "0  2002          10420  Akron, OH Metropolitan Statistical Area   \n",
      "1  2002          10420  Akron, OH Metropolitan Statistical Area   \n",
      "2  2002          10420  Akron, OH Metropolitan Statistical Area   \n",
      "3  2002          10420  Akron, OH Metropolitan Statistical Area   \n",
      "4  2002          10420  Akron, OH Metropolitan Statistical Area   \n",
      "\n",
      "                       class                topic  \\\n",
      "0        Alcohol Consumption  Alcohol Consumption   \n",
      "1        Alcohol Consumption  Alcohol Consumption   \n",
      "2                Oral Health    All Teeth Removed   \n",
      "3                Oral Health    All Teeth Removed   \n",
      "4  Chronic Health Indicators               Asthma   \n",
      "\n",
      "                                            question response break_out  \\\n",
      "0  Adults who have had at least one drink of alco...       No   Overall   \n",
      "1  Adults who have had at least one drink of alco...      Yes   Overall   \n",
      "2  Adults aged 65+ who have had all their natural...      Yes   Overall   \n",
      "3  Adults aged 65+ who have had all their natural...       No   Overall   \n",
      "4  Adults who have been told they currently have ...       No   Overall   \n",
      "\n",
      "  breakout_category  sample_size  ...  data_value_footnote  datasource  \\\n",
      "0           Overall          202  ...                  NaN       BRFSS   \n",
      "1           Overall          337  ...                  NaN       BRFSS   \n",
      "2           Overall           76  ...                  NaN       BRFSS   \n",
      "3           Overall           19  ...                  NaN       BRFSS   \n",
      "4           Overall          495  ...                  NaN       BRFSS   \n",
      "\n",
      "   class_id  topic_id locationid breakout_id breakout_category_id questionid  \\\n",
      "0   CLASS01   Topic03      10420         BO1                 CAT1   DRNKANY3   \n",
      "1   CLASS01   Topic03      10420         BO1                 CAT1   DRNKANY3   \n",
      "2   CLASS13   Topic04      10420         BO1                 CAT1   _ALTEETH   \n",
      "3   CLASS13   Topic04      10420         BO1                 CAT1   _ALTEETH   \n",
      "4   CLASS03   Topic06      10420         BO1                 CAT1   _CASTHMA   \n",
      "\n",
      "  responseid                     geolocation  \n",
      "0    RESP054  POINT (-81.3501104 41.1466395)  \n",
      "1    RESP046  POINT (-81.3501104 41.1466395)  \n",
      "2    RESP046  POINT (-81.3501104 41.1466395)  \n",
      "3    RESP054  POINT (-81.3501104 41.1466395)  \n",
      "4    RESP054  POINT (-81.3501104 41.1466395)  \n",
      "\n",
      "[5 rows x 27 columns]\n"
     ]
    }
   ],
   "source": [
    "# Drop columns with no valuable information\n",
    "data_cleaned = data.drop(columns=['geolocation_address', 'geolocation_zip', \n",
    "                                  'geolocation_city', 'geolocation_state'])\n",
    "\n",
    "# Rename columns for better readability\n",
    "data_cleaned = data_cleaned.rename(columns={\n",
    "    'locationabbr': 'location_abbr',\n",
    "    'break_out_category': 'breakout_category',\n",
    "    'classid': 'class_id',\n",
    "    'topicid': 'topic_id',\n",
    "    'breakoutid': 'breakout_id',\n",
    "    'breakoutcategoryid': 'breakout_category_id'\n",
    "})\n",
    "\n",
    "# Sort by specific columns for better organization\n",
    "data_cleaned = data_cleaned.sort_values(by=['year', 'locationdesc', 'topic', 'question']).reset_index(drop=True)\n",
    "\n",
    "# Display the cleaned dataset\n",
    "print(data_cleaned.head())  # Replace with display function if you're in a Jupyter notebook\n",
    "\n",
    "\n"
   ]
  },
  {
   "cell_type": "code",
   "execution_count": 37,
   "id": "2e2d21d8-ab98-4c1a-9fc7-65b647f4414f",
   "metadata": {},
   "outputs": [
    {
     "name": "stdout",
     "output_type": "stream",
     "text": [
      "     year  location_abbr                                   locationdesc  \\\n",
      "0    2002          10420        Akron, OH Metropolitan Statistical Area   \n",
      "1    2002          10420        Akron, OH Metropolitan Statistical Area   \n",
      "51   2002          10740  Albuquerque, NM Metropolitan Statistical Area   \n",
      "52   2002          10740  Albuquerque, NM Metropolitan Statistical Area   \n",
      "102  2002          11260    Anchorage, AK Metropolitan Statistical Area   \n",
      "\n",
      "                   class                topic  \\\n",
      "0    Alcohol Consumption  Alcohol Consumption   \n",
      "1    Alcohol Consumption  Alcohol Consumption   \n",
      "51   Alcohol Consumption  Alcohol Consumption   \n",
      "52   Alcohol Consumption  Alcohol Consumption   \n",
      "102  Alcohol Consumption  Alcohol Consumption   \n",
      "\n",
      "                                              question response break_out  \\\n",
      "0    Adults who have had at least one drink of alco...       No   Overall   \n",
      "1    Adults who have had at least one drink of alco...      Yes   Overall   \n",
      "51   Adults who have had at least one drink of alco...      Yes   Overall   \n",
      "52   Adults who have had at least one drink of alco...       No   Overall   \n",
      "102  Adults who have had at least one drink of alco...      Yes   Overall   \n",
      "\n",
      "    breakout_category  sample_size  ...  data_value_footnote  datasource  \\\n",
      "0             Overall          202  ...                  NaN       BRFSS   \n",
      "1             Overall          337  ...                  NaN       BRFSS   \n",
      "51            Overall          764  ...                  NaN       BRFSS   \n",
      "52            Overall          545  ...                  NaN       BRFSS   \n",
      "102           Overall          333  ...                  NaN       BRFSS   \n",
      "\n",
      "     class_id  topic_id locationid breakout_id breakout_category_id  \\\n",
      "0     CLASS01   Topic03      10420         BO1                 CAT1   \n",
      "1     CLASS01   Topic03      10420         BO1                 CAT1   \n",
      "51    CLASS01   Topic03      10740         BO1                 CAT1   \n",
      "52    CLASS01   Topic03      10740         BO1                 CAT1   \n",
      "102   CLASS01   Topic03      11260         BO1                 CAT1   \n",
      "\n",
      "    questionid responseid                      geolocation  \n",
      "0     DRNKANY3    RESP054   POINT (-81.3501104 41.1466395)  \n",
      "1     DRNKANY3    RESP046   POINT (-81.3501104 41.1466395)  \n",
      "51    DRNKANY3    RESP046  POINT (-106.4565348 35.1166033)  \n",
      "52    DRNKANY3    RESP054  POINT (-106.4565348 35.1166033)  \n",
      "102   DRNKANY3    RESP046  POINT (-149.6610199 62.2190042)  \n",
      "\n",
      "[5 rows x 27 columns]\n"
     ]
    }
   ],
   "source": [
    " #Filter rows where the 'topic' or other relevant columns contain 'alcohol' or 'drug'\n",
    "data_filtered = data_cleaned[data_cleaned['topic'].str.contains('alcohol|drug', case=False, na=False)]\n",
    "\n",
    "# Display the filtered data\n",
    "print(data_filtered.head())  # For Jupyter, use `display(data_filtered.head())`"
   ]
  },
  {
   "cell_type": "code",
   "execution_count": 40,
   "id": "c7efc528-aa8f-4647-a7e3-44c1da84f2bc",
   "metadata": {},
   "outputs": [],
   "source": [
    "data_filtered.to_csv(\"filtered_alcohol_drug_use.csv\", index=False)\n"
   ]
  }
 ],
 "metadata": {
  "kernelspec": {
   "display_name": "Python 3 (ipykernel)",
   "language": "python",
   "name": "python3"
  },
  "language_info": {
   "codemirror_mode": {
    "name": "ipython",
    "version": 3
   },
   "file_extension": ".py",
   "mimetype": "text/x-python",
   "name": "python",
   "nbconvert_exporter": "python",
   "pygments_lexer": "ipython3",
   "version": "3.12.4"
  }
 },
 "nbformat": 4,
 "nbformat_minor": 5
}
